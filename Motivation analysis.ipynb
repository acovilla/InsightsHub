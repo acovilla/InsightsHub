{
 "cells": [
  {
   "cell_type": "code",
   "execution_count": 1,
   "id": "1963d261",
   "metadata": {},
   "outputs": [],
   "source": [
    "import pandas as pd\n",
    "from nltk.tokenize import word_tokenize\n",
    "from nltk.corpus import stopwords\n",
    "from collections import Counter\n",
    "import nltk\n",
    "\n"
   ]
  },
  {
   "cell_type": "code",
   "execution_count": 2,
   "id": "0fbdab23",
   "metadata": {},
   "outputs": [
    {
     "name": "stderr",
     "output_type": "stream",
     "text": [
      "[nltk_data] Downloading package punkt to\n",
      "[nltk_data]     C:\\Users\\andre\\AppData\\Roaming\\nltk_data...\n",
      "[nltk_data]   Unzipping tokenizers\\punkt.zip.\n",
      "[nltk_data] Downloading package stopwords to\n",
      "[nltk_data]     C:\\Users\\andre\\AppData\\Roaming\\nltk_data...\n",
      "[nltk_data]   Unzipping corpora\\stopwords.zip.\n"
     ]
    },
    {
     "data": {
      "text/plain": [
       "True"
      ]
     },
     "execution_count": 2,
     "metadata": {},
     "output_type": "execute_result"
    }
   ],
   "source": [
    "nltk.download('punkt')\n",
    "nltk.download('stopwords')"
   ]
  },
  {
   "cell_type": "code",
   "execution_count": 3,
   "id": "db5e0c16",
   "metadata": {},
   "outputs": [],
   "source": [
    "df = pd.read_csv('motivation.csv')"
   ]
  },
  {
   "cell_type": "code",
   "execution_count": 5,
   "id": "1b83287f",
   "metadata": {},
   "outputs": [],
   "source": [
    "motivations = df['motivation'].tolist()"
   ]
  },
  {
   "cell_type": "code",
   "execution_count": 6,
   "id": "49843ecf",
   "metadata": {},
   "outputs": [],
   "source": [
    "# Tokenisation and stopwords\n",
    "stop_words = set(stopwords.words('english'))\n",
    "tokens = [word for text in motivations for word in word_tokenize(text.lower()) if word.isalpha() and word not in stop_words]"
   ]
  },
  {
   "cell_type": "code",
   "execution_count": 7,
   "id": "2bfb25c4",
   "metadata": {},
   "outputs": [
    {
     "name": "stdout",
     "output_type": "stream",
     "text": [
      "[('human', 18), ('poetry', 18), ('life', 17), ('poetic', 16), ('art', 15), ('great', 12), ('narrative', 11), ('power', 10), ('writing', 10), ('epic', 10), ('recognition', 10), ('writings', 9), ('new', 8), ('artistic', 8), ('work', 7), ('imagination', 7), ('force', 7), ('world', 7), ('contemporary', 7), ('works', 7)]\n"
     ]
    }
   ],
   "source": [
    "# Count and display most common words\n",
    "word_freq = Counter(tokens)\n",
    "most_common_words = word_freq.most_common(20)  \n",
    "print(most_common_words)"
   ]
  },
  {
   "cell_type": "code",
   "execution_count": 9,
   "id": "b6f48ca8",
   "metadata": {},
   "outputs": [],
   "source": [
    "import plotly.graph_objs as go\n",
    "import plotly.offline as pyo"
   ]
  },
  {
   "cell_type": "code",
   "execution_count": 10,
   "id": "616ed950",
   "metadata": {},
   "outputs": [],
   "source": [
    "words, freqs = zip(*most_common_words)"
   ]
  },
  {
   "cell_type": "code",
   "execution_count": 11,
   "id": "483d31fd",
   "metadata": {},
   "outputs": [
    {
     "data": {
      "text/plain": [
       "'temp-plot.html'"
      ]
     },
     "execution_count": 11,
     "metadata": {},
     "output_type": "execute_result"
    }
   ],
   "source": [
    "# Bubble chart\n",
    "trace = go.Scatter(\n",
    "    x=words,\n",
    "    y=freqs,\n",
    "    mode='markers',\n",
    "    marker=dict(\n",
    "        size=[freq*10 for freq in freqs],  \n",
    "        color=freqs,\n",
    "        colorscale='Viridis',\n",
    "        showscale=True\n",
    "    ),\n",
    "    text=words\n",
    ")\n",
    "\n",
    "data = [trace]\n",
    "\n",
    "layout = go.Layout(\n",
    "    title='Keyword Frequencies',\n",
    "    xaxis=dict(title='Keywords'),\n",
    "    yaxis=dict(title='Frequency'),\n",
    "    showlegend=False\n",
    ")\n",
    "\n",
    "fig = go.Figure(data=data, layout=layout)\n",
    "pyo.plot(fig)"
   ]
  },
  {
   "cell_type": "code",
   "execution_count": null,
   "id": "e74f9ee9",
   "metadata": {},
   "outputs": [],
   "source": []
  }
 ],
 "metadata": {
  "kernelspec": {
   "display_name": "Python 3 (ipykernel)",
   "language": "python",
   "name": "python3"
  },
  "language_info": {
   "codemirror_mode": {
    "name": "ipython",
    "version": 3
   },
   "file_extension": ".py",
   "mimetype": "text/x-python",
   "name": "python",
   "nbconvert_exporter": "python",
   "pygments_lexer": "ipython3",
   "version": "3.11.5"
  }
 },
 "nbformat": 4,
 "nbformat_minor": 5
}
